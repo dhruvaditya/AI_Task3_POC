{
 "cells": [
  {
   "cell_type": "code",
   "execution_count": 6,
   "id": "e8bf6d22-d06a-42ae-bb45-8c393087acf7",
   "metadata": {},
   "outputs": [
    {
     "name": "stdout",
     "output_type": "stream",
     "text": [
      "Collecting nltk\n",
      "  Downloading nltk-3.8.1-py3-none-any.whl (1.5 MB)\n",
      "     ---------------------------------------- 0.0/1.5 MB ? eta -:--:--\n",
      "     - -------------------------------------- 0.0/1.5 MB 653.6 kB/s eta 0:00:03\n",
      "     --- ------------------------------------ 0.1/1.5 MB 1.2 MB/s eta 0:00:02\n",
      "     ------ --------------------------------- 0.2/1.5 MB 1.8 MB/s eta 0:00:01\n",
      "     --------- ------------------------------ 0.4/1.5 MB 2.0 MB/s eta 0:00:01\n",
      "     ------------ --------------------------- 0.5/1.5 MB 2.1 MB/s eta 0:00:01\n",
      "     ---------------------- ----------------- 0.8/1.5 MB 3.2 MB/s eta 0:00:01\n",
      "     ------------------------------- -------- 1.2/1.5 MB 3.8 MB/s eta 0:00:01\n",
      "     ---------------------------------------- 1.5/1.5 MB 4.2 MB/s eta 0:00:00\n",
      "Requirement already satisfied: click in c:\\users\\hp\\appdata\\local\\programs\\python\\python311\\lib\\site-packages (from nltk) (8.1.7)\n",
      "Collecting joblib (from nltk)\n",
      "  Downloading joblib-1.3.2-py3-none-any.whl.metadata (5.4 kB)\n",
      "Requirement already satisfied: regex>=2021.8.3 in c:\\users\\hp\\appdata\\local\\programs\\python\\python311\\lib\\site-packages (from nltk) (2023.12.25)\n",
      "Requirement already satisfied: tqdm in c:\\users\\hp\\appdata\\local\\programs\\python\\python311\\lib\\site-packages (from nltk) (4.66.1)\n",
      "Requirement already satisfied: colorama in c:\\users\\hp\\appdata\\local\\programs\\python\\python311\\lib\\site-packages (from click->nltk) (0.4.6)\n",
      "Downloading joblib-1.3.2-py3-none-any.whl (302 kB)\n",
      "   ---------------------------------------- 0.0/302.2 kB ? eta -:--:--\n",
      "   ---------------------------------------- 302.2/302.2 kB 6.2 MB/s eta 0:00:00\n",
      "Installing collected packages: joblib, nltk\n",
      "Successfully installed joblib-1.3.2 nltk-3.8.1\n"
     ]
    }
   ],
   "source": [
    "!pip install nltk"
   ]
  },
  {
   "cell_type": "code",
   "execution_count": 18,
   "id": "37cbf17e-78f9-41be-99ae-e06158527272",
   "metadata": {},
   "outputs": [
    {
     "name": "stdout",
     "output_type": "stream",
     "text": [
      "Original Word: better, Lemma: good\n"
     ]
    }
   ],
   "source": [
    "from nltk.stem import WordNetLemmatizer\n",
    "\n",
    "# Create a WordNetLemmatizer object\n",
    "lemmatizer = WordNetLemmatizer()\n",
    "\n",
    "# Example usage\n",
    "word = \"better\"\n",
    "lemma = lemmatizer.lemmatize(word, pos='a') \n",
    "print(f\"Original Word: {word}, Lemma: {lemma}\")\n"
   ]
  },
  {
   "cell_type": "code",
   "execution_count": 8,
   "id": "a75e440e-dcfa-4a70-b13b-9fa72dca7fa7",
   "metadata": {},
   "outputs": [
    {
     "name": "stderr",
     "output_type": "stream",
     "text": [
      "[nltk_data] Downloading package wordnet to\n",
      "[nltk_data]     C:\\Users\\Hp\\AppData\\Roaming\\nltk_data...\n"
     ]
    },
    {
     "data": {
      "text/plain": [
       "True"
      ]
     },
     "execution_count": 8,
     "metadata": {},
     "output_type": "execute_result"
    }
   ],
   "source": [
    "import nltk\n",
    "nltk.download('wordnet')"
   ]
  },
  {
   "cell_type": "code",
   "execution_count": 19,
   "id": "521b6b6c-aee2-4c8a-a5a1-ab0bccc49d11",
   "metadata": {},
   "outputs": [
    {
     "name": "stdout",
     "output_type": "stream",
     "text": [
      "Original Word: swimming, Lemma: swim\n"
     ]
    }
   ],
   "source": [
    "word = \"swimming\"\n",
    "lemma = lemmatizer.lemmatize(word, pos='v')  # 'v' indicates verb\n",
    "print(f\"Original Word: {word}, Lemma: {lemma}\")"
   ]
  },
  {
   "cell_type": "code",
   "execution_count": 21,
   "id": "5bd96fb0-58d0-4a86-99ad-230b67ee5c1b",
   "metadata": {},
   "outputs": [
    {
     "name": "stdout",
     "output_type": "stream",
     "text": [
      "Original Word: painting, Lemma: painting\n"
     ]
    }
   ],
   "source": [
    "word = \"painting\"\n",
    "lemma = lemmatizer.lemmatize(word, pos='n')  # 'n' indicates noun\n",
    "print(f\"Original Word: {word}, Lemma: {lemma}\")"
   ]
  },
  {
   "cell_type": "code",
   "execution_count": 25,
   "id": "ab05cbc5-882e-4cf5-b2a7-c02867b8f9fa",
   "metadata": {},
   "outputs": [],
   "source": [
    "def get_simple_pos(tag):\n",
    "    if tag.startswith('J'):\n",
    "        return workdnet.ADJ\n",
    "    elif tag.startswith('v'):\n",
    "        return workdnet.VERB\n",
    "    elif tag.strarswith('N'):\n",
    "        return wordnet.NOUN\n",
    "    elif tag.startswith('R'):\n",
    "        return wrodnet.ADV\n",
    "    else:\n",
    "        return wordnet.NOUN"
   ]
  },
  {
   "cell_type": "code",
   "execution_count": 27,
   "id": "f594b3ff-30c3-47b5-8145-199fc52bd484",
   "metadata": {},
   "outputs": [],
   "source": [
    "#Part of speech \n",
    "from nltk import pos_tag\n"
   ]
  },
  {
   "cell_type": "markdown",
   "id": "270edaaf-8757-4cb6-b3b6-a7a52e397891",
   "metadata": {},
   "source": [
    "from nltk.corpus import state_union\n"
   ]
  },
  {
   "cell_type": "code",
   "execution_count": 28,
   "id": "096d671c-d6b3-417e-bf7f-cf11cb88b602",
   "metadata": {},
   "outputs": [],
   "source": [
    "from nltk.corpus import state_union"
   ]
  },
  {
   "cell_type": "code",
   "execution_count": null,
   "id": "0861b8c5-6a8a-4552-bb87-53f10a6ff808",
   "metadata": {},
   "outputs": [],
   "source": []
  },
  {
   "cell_type": "code",
   "execution_count": 31,
   "id": "a5a41c15-3c16-44e6-8ae2-196df52f152b",
   "metadata": {},
   "outputs": [],
   "source": [
    "#stenning\n",
    "from nltk.stem import PorterStemmer"
   ]
  },
  {
   "cell_type": "code",
   "execution_count": 33,
   "id": "5fa04fb1-8014-4de2-b561-46d389f4c668",
   "metadata": {},
   "outputs": [
    {
     "data": {
      "text/plain": [
       "['play', 'play', 'player', 'play']"
      ]
     },
     "execution_count": 33,
     "metadata": {},
     "output_type": "execute_result"
    }
   ],
   "source": [
    "stem_words = ['Play','playing','player','played']\n",
    "ps=PorterStemmer()\n",
    "stemmed_words= [ps.stem(w) for w in stem_words]\n",
    "stemmed_words"
   ]
  },
  {
   "cell_type": "code",
   "execution_count": 36,
   "id": "c1b872ce-35cd-49cd-824d-b47a4ce99f0c",
   "metadata": {},
   "outputs": [
    {
     "name": "stdout",
     "output_type": "stream",
     "text": [
      "Oringial word ['Amazing', 'Happily', 'Playing', 'Singing']\n",
      "Stemmed word ['amaz', 'happili', 'play', 'sing']\n"
     ]
    }
   ],
   "source": [
    "#created an object porter_stemmer\n",
    "porter_stemmer=PorterStemmer()\n",
    "words=['Amazing','Happily','Playing','Singing']\n",
    "stem_word=[porter_stemmer.stem(word) for word in words]\n",
    "print(\"Oringial word\", words)\n",
    "print(\"Stemmed word\",stem_word)"
   ]
  },
  {
   "cell_type": "code",
   "execution_count": 54,
   "id": "05b7f735-50dd-473a-8d67-b50bc93ab7fe",
   "metadata": {},
   "outputs": [],
   "source": [
    "#sentence tokenization\n",
    "import nltk\n",
    "\n",
    "from nltk.tokenize import sent_tokenize, word_tokenize"
   ]
  },
  {
   "cell_type": "code",
   "execution_count": 59,
   "id": "0fe2a597-5943-44f6-8b22-f2efaf6b5160",
   "metadata": {},
   "outputs": [
    {
     "data": {
      "text/plain": [
       "['Is this my car?', \"isn't it\"]"
      ]
     },
     "execution_count": 59,
     "metadata": {},
     "output_type": "execute_result"
    }
   ],
   "source": [
    "#Natural language processing nltk\n",
    "sample_text=\"Is this my car? isn't it\"\n",
    "sent_tokenize(sample_text)"
   ]
  },
  {
   "cell_type": "code",
   "execution_count": 66,
   "id": "d1e96aa3-1c0c-47de-bb17-1c5b17bea7cb",
   "metadata": {},
   "outputs": [
    {
     "name": "stderr",
     "output_type": "stream",
     "text": [
      "[nltk_data] Downloading package punkt to\n",
      "[nltk_data]     C:\\Users\\Hp\\AppData\\Roaming\\nltk_data...\n",
      "[nltk_data]   Package punkt is already up-to-date!\n",
      "[nltk_data] Downloading package stopwords to\n",
      "[nltk_data]     C:\\Users\\Hp\\AppData\\Roaming\\nltk_data...\n",
      "[nltk_data]   Unzipping corpora\\stopwords.zip.\n"
     ]
    },
    {
     "data": {
      "text/plain": [
       "True"
      ]
     },
     "execution_count": 66,
     "metadata": {},
     "output_type": "execute_result"
    }
   ],
   "source": [
    "#NLTK requires additional data for some functionalities, such as tokenization so for that download punkt\n",
    "import nltk\n",
    "nltk.download('punkt')\n",
    "#download stop words to detect frequent words which are not more meaningful like the,as, is, et.c\n",
    "\n",
    "nltk.download('stopwords')\n"
   ]
  },
  {
   "cell_type": "code",
   "execution_count": 61,
   "id": "64b8559e-bcc1-45f2-a300-ad0313e64a71",
   "metadata": {},
   "outputs": [
    {
     "data": {
      "text/plain": [
       "['Is', 'this', 'my', 'car', '?', 'is', \"n't\", 'it']"
      ]
     },
     "execution_count": 61,
     "metadata": {},
     "output_type": "execute_result"
    }
   ],
   "source": [
    "#seperate each word\n",
    "word_tokenize(sample_text)"
   ]
  },
  {
   "cell_type": "code",
   "execution_count": 62,
   "id": "d6d6bc9c-ee0b-4944-a25e-08fe0ffb573d",
   "metadata": {},
   "outputs": [],
   "source": [
    "from nltk.corpus import stopwords"
   ]
  },
  {
   "cell_type": "code",
   "execution_count": 63,
   "id": "a2d33149-680b-45b6-8a40-bd43af1748d9",
   "metadata": {},
   "outputs": [],
   "source": [
    "#it support multiple language"
   ]
  },
  {
   "cell_type": "code",
   "execution_count": 70,
   "id": "62796e77-7061-4fd8-b888-cbb64e1fbc22",
   "metadata": {},
   "outputs": [
    {
     "data": {
      "text/plain": [
       "['i',\n",
       " 'me',\n",
       " 'my',\n",
       " 'myself',\n",
       " 'we',\n",
       " 'our',\n",
       " 'ours',\n",
       " 'ourselves',\n",
       " 'you',\n",
       " \"you're\",\n",
       " \"you've\",\n",
       " \"you'll\",\n",
       " \"you'd\",\n",
       " 'your',\n",
       " 'yours',\n",
       " 'yourself',\n",
       " 'yourselves',\n",
       " 'he',\n",
       " 'him',\n",
       " 'his',\n",
       " 'himself',\n",
       " 'she',\n",
       " \"she's\",\n",
       " 'her',\n",
       " 'hers',\n",
       " 'herself',\n",
       " 'it',\n",
       " \"it's\",\n",
       " 'its',\n",
       " 'itself',\n",
       " 'they',\n",
       " 'them',\n",
       " 'their',\n",
       " 'theirs',\n",
       " 'themselves',\n",
       " 'what',\n",
       " 'which',\n",
       " 'who',\n",
       " 'whom',\n",
       " 'this',\n",
       " 'that',\n",
       " \"that'll\",\n",
       " 'these',\n",
       " 'those',\n",
       " 'am',\n",
       " 'is',\n",
       " 'are',\n",
       " 'was',\n",
       " 'were',\n",
       " 'be',\n",
       " 'been',\n",
       " 'being',\n",
       " 'have',\n",
       " 'has',\n",
       " 'had',\n",
       " 'having',\n",
       " 'do',\n",
       " 'does',\n",
       " 'did',\n",
       " 'doing',\n",
       " 'a',\n",
       " 'an',\n",
       " 'the',\n",
       " 'and',\n",
       " 'but',\n",
       " 'if',\n",
       " 'or',\n",
       " 'because',\n",
       " 'as',\n",
       " 'until',\n",
       " 'while',\n",
       " 'of',\n",
       " 'at',\n",
       " 'by',\n",
       " 'for',\n",
       " 'with',\n",
       " 'about',\n",
       " 'against',\n",
       " 'between',\n",
       " 'into',\n",
       " 'through',\n",
       " 'during',\n",
       " 'before',\n",
       " 'after',\n",
       " 'above',\n",
       " 'below',\n",
       " 'to',\n",
       " 'from',\n",
       " 'up',\n",
       " 'down',\n",
       " 'in',\n",
       " 'out',\n",
       " 'on',\n",
       " 'off',\n",
       " 'over',\n",
       " 'under',\n",
       " 'again',\n",
       " 'further',\n",
       " 'then',\n",
       " 'once',\n",
       " 'here',\n",
       " 'there',\n",
       " 'when',\n",
       " 'where',\n",
       " 'why',\n",
       " 'how',\n",
       " 'all',\n",
       " 'any',\n",
       " 'both',\n",
       " 'each',\n",
       " 'few',\n",
       " 'more',\n",
       " 'most',\n",
       " 'other',\n",
       " 'some',\n",
       " 'such',\n",
       " 'no',\n",
       " 'nor',\n",
       " 'not',\n",
       " 'only',\n",
       " 'own',\n",
       " 'same',\n",
       " 'so',\n",
       " 'than',\n",
       " 'too',\n",
       " 'very',\n",
       " 's',\n",
       " 't',\n",
       " 'can',\n",
       " 'will',\n",
       " 'just',\n",
       " 'don',\n",
       " \"don't\",\n",
       " 'should',\n",
       " \"should've\",\n",
       " 'now',\n",
       " 'd',\n",
       " 'll',\n",
       " 'm',\n",
       " 'o',\n",
       " 're',\n",
       " 've',\n",
       " 'y',\n",
       " 'ain',\n",
       " 'aren',\n",
       " \"aren't\",\n",
       " 'couldn',\n",
       " \"couldn't\",\n",
       " 'didn',\n",
       " \"didn't\",\n",
       " 'doesn',\n",
       " \"doesn't\",\n",
       " 'hadn',\n",
       " \"hadn't\",\n",
       " 'hasn',\n",
       " \"hasn't\",\n",
       " 'haven',\n",
       " \"haven't\",\n",
       " 'isn',\n",
       " \"isn't\",\n",
       " 'ma',\n",
       " 'mightn',\n",
       " \"mightn't\",\n",
       " 'mustn',\n",
       " \"mustn't\",\n",
       " 'needn',\n",
       " \"needn't\",\n",
       " 'shan',\n",
       " \"shan't\",\n",
       " 'shouldn',\n",
       " \"shouldn't\",\n",
       " 'wasn',\n",
       " \"wasn't\",\n",
       " 'weren',\n",
       " \"weren't\",\n",
       " 'won',\n",
       " \"won't\",\n",
       " 'wouldn',\n",
       " \"wouldn't\"]"
      ]
     },
     "execution_count": 70,
     "metadata": {},
     "output_type": "execute_result"
    }
   ],
   "source": [
    "stop=stopwords.words('english')\n",
    "stop"
   ]
  },
  {
   "cell_type": "code",
   "execution_count": 82,
   "id": "468cfd87-384b-498e-ace6-f100a12b2a13",
   "metadata": {},
   "outputs": [
    {
     "data": {
      "text/plain": [
       "['D',\n",
       " 'e',\n",
       " ' ',\n",
       " 'h',\n",
       " ' ',\n",
       " 'h',\n",
       " 'n',\n",
       " 'g',\n",
       " ' ',\n",
       " 'r',\n",
       " 'e',\n",
       " 'l',\n",
       " 'l',\n",
       " ' ',\n",
       " 'e',\n",
       " 'r',\n",
       " '?',\n",
       " ' ',\n",
       " 'l',\n",
       " 'e',\n",
       " ' ',\n",
       " 'e',\n",
       " 'e']"
      ]
     },
     "execution_count": 82,
     "metadata": {},
     "output_type": "execute_result"
    }
   ],
   "source": [
    "# The primary reasons for using stopwords in NLP are as follows:\n",
    "\n",
    "# Noise Reduction:\n",
    "# Computational Efficiency:\n",
    "# Improved Model Performance:\n",
    "# Reducing Dimensionality:\n",
    "# Focus on Content Words:\n",
    "# focus on content words that carry more semantic meaning and contribute to the overall context of the text. This can lead to a clearer understanding of the important terms in a document.\n",
    "text=\"Does this thing really matter? lets see\"\n",
    "clean_words=[w for w in text if not w in stop]\n",
    "clean_words"
   ]
  },
  {
   "cell_type": "code",
   "execution_count": 81,
   "id": "a4954fdc-bea0-4493-a638-993ce3f5c89a",
   "metadata": {},
   "outputs": [
    {
     "data": {
      "text/plain": [
       "'!\"#$%&\\'()*+,-./:;<=>?@[\\\\]^_`{|}~'"
      ]
     },
     "execution_count": 81,
     "metadata": {},
     "output_type": "execute_result"
    }
   ],
   "source": [
    "import string\n",
    "punctuations=string.punctuation\n",
    "punctuations"
   ]
  },
  {
   "cell_type": "code",
   "execution_count": 89,
   "id": "35a70da6-3f1a-4eca-83ff-1e0283ec1738",
   "metadata": {},
   "outputs": [],
   "source": [
    "# Natural language processing\n",
    "# better -> good (similar meaning or root word in actually same)\n",
    "# sklearn classifier -> to train and test\n",
    "# array of data point: array is of tuple tuple first entry is dictionary\n",
    "# support vector classifier\n",
    "\n",
    "from sklearn.svm import SVC\n",
    "from nltk.classify.scikitlearn import SklearnClassifier"
   ]
  },
  {
   "cell_type": "code",
   "execution_count": 87,
   "id": "892e0166-8464-4a82-b04a-2bbdd0f47e4e",
   "metadata": {},
   "outputs": [
    {
     "name": "stdout",
     "output_type": "stream",
     "text": [
      "Collecting scikit-learn\n",
      "  Downloading scikit_learn-1.4.0-1-cp311-cp311-win_amd64.whl.metadata (11 kB)\n",
      "Requirement already satisfied: nltk in c:\\users\\hp\\appdata\\local\\programs\\python\\python311\\lib\\site-packages (3.8.1)\n",
      "Requirement already satisfied: numpy<2.0,>=1.19.5 in c:\\users\\hp\\appdata\\local\\programs\\python\\python311\\lib\\site-packages (from scikit-learn) (1.24.3)\n",
      "Collecting scipy>=1.6.0 (from scikit-learn)\n",
      "  Downloading scipy-1.12.0-cp311-cp311-win_amd64.whl.metadata (60 kB)\n",
      "     ---------------------------------------- 0.0/60.4 kB ? eta -:--:--\n",
      "     -------------------- ------------------- 30.7/60.4 kB 1.4 MB/s eta 0:00:01\n",
      "     -------------------------------------- 60.4/60.4 kB 643.6 kB/s eta 0:00:00\n",
      "Requirement already satisfied: joblib>=1.2.0 in c:\\users\\hp\\appdata\\local\\programs\\python\\python311\\lib\\site-packages (from scikit-learn) (1.3.2)\n",
      "Collecting threadpoolctl>=2.0.0 (from scikit-learn)\n",
      "  Downloading threadpoolctl-3.2.0-py3-none-any.whl.metadata (10.0 kB)\n",
      "Requirement already satisfied: click in c:\\users\\hp\\appdata\\local\\programs\\python\\python311\\lib\\site-packages (from nltk) (8.1.7)\n",
      "Requirement already satisfied: regex>=2021.8.3 in c:\\users\\hp\\appdata\\local\\programs\\python\\python311\\lib\\site-packages (from nltk) (2023.12.25)\n",
      "Requirement already satisfied: tqdm in c:\\users\\hp\\appdata\\local\\programs\\python\\python311\\lib\\site-packages (from nltk) (4.66.1)\n",
      "Requirement already satisfied: colorama in c:\\users\\hp\\appdata\\local\\programs\\python\\python311\\lib\\site-packages (from click->nltk) (0.4.6)\n",
      "Downloading scikit_learn-1.4.0-1-cp311-cp311-win_amd64.whl (10.6 MB)\n",
      "   ---------------------------------------- 0.0/10.6 MB ? eta -:--:--\n",
      "   ---------------------------------------- 0.1/10.6 MB 4.8 MB/s eta 0:00:03\n",
      "    --------------------------------------- 0.2/10.6 MB 2.5 MB/s eta 0:00:05\n",
      "    --------------------------------------- 0.3/10.6 MB 2.3 MB/s eta 0:00:05\n",
      "   - -------------------------------------- 0.5/10.6 MB 3.1 MB/s eta 0:00:04\n",
      "   -- ------------------------------------- 0.7/10.6 MB 3.0 MB/s eta 0:00:04\n",
      "   --- ------------------------------------ 1.0/10.6 MB 4.1 MB/s eta 0:00:03\n",
      "   ----- ---------------------------------- 1.5/10.6 MB 4.7 MB/s eta 0:00:02\n",
      "   ------ --------------------------------- 1.7/10.6 MB 4.8 MB/s eta 0:00:02\n",
      "   ------- -------------------------------- 2.1/10.6 MB 5.4 MB/s eta 0:00:02\n",
      "   -------- ------------------------------- 2.4/10.6 MB 5.2 MB/s eta 0:00:02\n",
      "   -------- ------------------------------- 2.4/10.6 MB 5.2 MB/s eta 0:00:02\n",
      "   -------- ------------------------------- 2.4/10.6 MB 5.2 MB/s eta 0:00:02\n",
      "   -------- ------------------------------- 2.4/10.6 MB 5.2 MB/s eta 0:00:02\n",
      "   -------- ------------------------------- 2.4/10.6 MB 5.2 MB/s eta 0:00:02\n",
      "   --------------- ------------------------ 4.0/10.6 MB 6.0 MB/s eta 0:00:02\n",
      "   ---------------- ----------------------- 4.3/10.6 MB 5.9 MB/s eta 0:00:02\n",
      "   ---------------- ----------------------- 4.5/10.6 MB 5.8 MB/s eta 0:00:02\n",
      "   ------------------ --------------------- 4.8/10.6 MB 6.0 MB/s eta 0:00:01\n",
      "   ------------------- -------------------- 5.2/10.6 MB 6.0 MB/s eta 0:00:01\n",
      "   --------------------- ------------------ 5.6/10.6 MB 6.2 MB/s eta 0:00:01\n",
      "   ---------------------- ----------------- 5.9/10.6 MB 6.1 MB/s eta 0:00:01\n",
      "   ----------------------- ---------------- 6.2/10.6 MB 6.2 MB/s eta 0:00:01\n",
      "   ------------------------ --------------- 6.5/10.6 MB 6.2 MB/s eta 0:00:01\n",
      "   -------------------------- ------------- 6.9/10.6 MB 6.3 MB/s eta 0:00:01\n",
      "   --------------------------- ------------ 7.2/10.6 MB 6.3 MB/s eta 0:00:01\n",
      "   ---------------------------- ----------- 7.7/10.6 MB 6.4 MB/s eta 0:00:01\n",
      "   ------------------------------ --------- 8.0/10.6 MB 6.5 MB/s eta 0:00:01\n",
      "   ------------------------------- -------- 8.4/10.6 MB 6.6 MB/s eta 0:00:01\n",
      "   -------------------------------- ------- 8.7/10.6 MB 6.6 MB/s eta 0:00:01\n",
      "   ---------------------------------- ----- 9.1/10.6 MB 6.7 MB/s eta 0:00:01\n",
      "   ----------------------------------- ---- 9.5/10.6 MB 6.8 MB/s eta 0:00:01\n",
      "   ------------------------------------ --- 9.7/10.6 MB 6.7 MB/s eta 0:00:01\n",
      "   ------------------------------------- -- 10.1/10.6 MB 6.7 MB/s eta 0:00:01\n",
      "   ---------------------------------------  10.6/10.6 MB 7.3 MB/s eta 0:00:01\n",
      "   ---------------------------------------  10.6/10.6 MB 7.2 MB/s eta 0:00:01\n",
      "   ---------------------------------------- 10.6/10.6 MB 7.0 MB/s eta 0:00:00\n",
      "Downloading scipy-1.12.0-cp311-cp311-win_amd64.whl (46.2 MB)\n",
      "   ---------------------------------------- 0.0/46.2 MB ? eta -:--:--\n",
      "   ---------------------------------------- 0.4/46.2 MB 7.6 MB/s eta 0:00:07\n",
      "    --------------------------------------- 0.7/46.2 MB 9.1 MB/s eta 0:00:06\n",
      "    --------------------------------------- 1.1/46.2 MB 8.1 MB/s eta 0:00:06\n",
      "   - -------------------------------------- 1.4/46.2 MB 8.3 MB/s eta 0:00:06\n",
      "   - -------------------------------------- 1.7/46.2 MB 7.3 MB/s eta 0:00:07\n",
      "   - -------------------------------------- 2.1/46.2 MB 7.5 MB/s eta 0:00:06\n",
      "   -- ------------------------------------- 2.4/46.2 MB 7.3 MB/s eta 0:00:07\n",
      "   -- ------------------------------------- 2.7/46.2 MB 7.1 MB/s eta 0:00:07\n",
      "   -- ------------------------------------- 3.0/46.2 MB 7.3 MB/s eta 0:00:06\n",
      "   --- ------------------------------------ 3.5/46.2 MB 7.7 MB/s eta 0:00:06\n",
      "   --- ------------------------------------ 3.9/46.2 MB 7.7 MB/s eta 0:00:06\n",
      "   --- ------------------------------------ 4.2/46.2 MB 7.6 MB/s eta 0:00:06\n",
      "   --- ------------------------------------ 4.5/46.2 MB 7.6 MB/s eta 0:00:06\n",
      "   ---- ----------------------------------- 4.8/46.2 MB 7.6 MB/s eta 0:00:06\n",
      "   ---- ----------------------------------- 5.2/46.2 MB 7.6 MB/s eta 0:00:06\n",
      "   ---- ----------------------------------- 5.6/46.2 MB 7.6 MB/s eta 0:00:06\n",
      "   ----- ---------------------------------- 5.9/46.2 MB 7.6 MB/s eta 0:00:06\n",
      "   ----- ---------------------------------- 6.2/46.2 MB 7.5 MB/s eta 0:00:06\n",
      "   ----- ---------------------------------- 6.6/46.2 MB 7.6 MB/s eta 0:00:06\n",
      "   ------ --------------------------------- 7.0/46.2 MB 7.5 MB/s eta 0:00:06\n",
      "   ------ --------------------------------- 7.4/46.2 MB 7.7 MB/s eta 0:00:06\n",
      "   ------ --------------------------------- 7.8/46.2 MB 7.7 MB/s eta 0:00:05\n",
      "   ------- -------------------------------- 8.1/46.2 MB 7.6 MB/s eta 0:00:05\n",
      "   ------- -------------------------------- 8.5/46.2 MB 7.7 MB/s eta 0:00:05\n",
      "   ------- -------------------------------- 8.7/46.2 MB 7.6 MB/s eta 0:00:05\n",
      "   ------- -------------------------------- 9.1/46.2 MB 7.6 MB/s eta 0:00:05\n",
      "   -------- ------------------------------- 9.5/46.2 MB 7.6 MB/s eta 0:00:05\n",
      "   -------- ------------------------------- 10.0/46.2 MB 7.7 MB/s eta 0:00:05\n",
      "   -------- ------------------------------- 10.3/46.2 MB 7.6 MB/s eta 0:00:05\n",
      "   --------- ------------------------------ 10.8/46.2 MB 7.7 MB/s eta 0:00:05\n",
      "   --------- ------------------------------ 11.1/46.2 MB 7.7 MB/s eta 0:00:05\n",
      "   ---------- ----------------------------- 11.6/46.2 MB 7.8 MB/s eta 0:00:05\n",
      "   ---------- ----------------------------- 12.0/46.2 MB 8.0 MB/s eta 0:00:05\n",
      "   ---------- ----------------------------- 12.3/46.2 MB 7.9 MB/s eta 0:00:05\n",
      "   ---------- ----------------------------- 12.7/46.2 MB 8.1 MB/s eta 0:00:05\n",
      "   ----------- ---------------------------- 13.1/46.2 MB 8.1 MB/s eta 0:00:05\n",
      "   ----------- ---------------------------- 13.5/46.2 MB 8.1 MB/s eta 0:00:05\n",
      "   ------------ --------------------------- 14.0/46.2 MB 8.1 MB/s eta 0:00:04\n",
      "   ------------ --------------------------- 14.3/46.2 MB 8.2 MB/s eta 0:00:04\n",
      "   ------------ --------------------------- 14.7/46.2 MB 8.2 MB/s eta 0:00:04\n",
      "   ------------- -------------------------- 15.1/46.2 MB 8.3 MB/s eta 0:00:04\n",
      "   ------------- -------------------------- 15.5/46.2 MB 8.4 MB/s eta 0:00:04\n",
      "   ------------- -------------------------- 15.9/46.2 MB 8.3 MB/s eta 0:00:04\n",
      "   -------------- ------------------------- 16.2/46.2 MB 8.2 MB/s eta 0:00:04\n",
      "   -------------- ------------------------- 16.7/46.2 MB 8.3 MB/s eta 0:00:04\n",
      "   -------------- ------------------------- 17.1/46.2 MB 8.4 MB/s eta 0:00:04\n",
      "   --------------- ------------------------ 17.5/46.2 MB 8.4 MB/s eta 0:00:04\n",
      "   --------------- ------------------------ 17.8/46.2 MB 8.3 MB/s eta 0:00:04\n",
      "   --------------- ------------------------ 18.2/46.2 MB 8.4 MB/s eta 0:00:04\n",
      "   ---------------- ----------------------- 18.6/46.2 MB 8.4 MB/s eta 0:00:04\n",
      "   ---------------- ----------------------- 19.0/46.2 MB 8.5 MB/s eta 0:00:04\n",
      "   ---------------- ----------------------- 19.5/46.2 MB 8.6 MB/s eta 0:00:04\n",
      "   ----------------- ---------------------- 19.8/46.2 MB 8.5 MB/s eta 0:00:04\n",
      "   ----------------- ---------------------- 20.2/46.2 MB 8.5 MB/s eta 0:00:04\n",
      "   ----------------- ---------------------- 20.6/46.2 MB 8.5 MB/s eta 0:00:04\n",
      "   ------------------ --------------------- 21.1/46.2 MB 8.6 MB/s eta 0:00:03\n",
      "   ------------------ --------------------- 21.4/46.2 MB 8.6 MB/s eta 0:00:03\n",
      "   ------------------ --------------------- 21.6/46.2 MB 8.3 MB/s eta 0:00:03\n",
      "   ------------------- -------------------- 22.1/46.2 MB 8.3 MB/s eta 0:00:03\n",
      "   ------------------- -------------------- 22.5/46.2 MB 8.4 MB/s eta 0:00:03\n",
      "   ------------------- -------------------- 22.9/46.2 MB 8.4 MB/s eta 0:00:03\n",
      "   -------------------- ------------------- 23.1/46.2 MB 8.3 MB/s eta 0:00:03\n",
      "   -------------------- ------------------- 23.4/46.2 MB 8.2 MB/s eta 0:00:03\n",
      "   -------------------- ------------------- 23.7/46.2 MB 8.2 MB/s eta 0:00:03\n",
      "   -------------------- ------------------- 23.9/46.2 MB 8.1 MB/s eta 0:00:03\n",
      "   --------------------- ------------------ 24.3/46.2 MB 8.0 MB/s eta 0:00:03\n",
      "   --------------------- ------------------ 24.5/46.2 MB 7.9 MB/s eta 0:00:03\n",
      "   --------------------- ------------------ 24.8/46.2 MB 7.8 MB/s eta 0:00:03\n",
      "   --------------------- ------------------ 25.2/46.2 MB 7.8 MB/s eta 0:00:03\n",
      "   ---------------------- ----------------- 25.6/46.2 MB 7.9 MB/s eta 0:00:03\n",
      "   ---------------------- ----------------- 26.0/46.2 MB 7.8 MB/s eta 0:00:03\n",
      "   ---------------------- ----------------- 26.3/46.2 MB 7.8 MB/s eta 0:00:03\n",
      "   ----------------------- ---------------- 26.6/46.2 MB 7.7 MB/s eta 0:00:03\n",
      "   ----------------------- ---------------- 27.0/46.2 MB 7.7 MB/s eta 0:00:03\n",
      "   ----------------------- ---------------- 27.3/46.2 MB 7.7 MB/s eta 0:00:03\n",
      "   ------------------------ --------------- 27.8/46.2 MB 7.7 MB/s eta 0:00:03\n",
      "   ------------------------ --------------- 28.3/46.2 MB 7.8 MB/s eta 0:00:03\n",
      "   ------------------------ --------------- 28.6/46.2 MB 7.7 MB/s eta 0:00:03\n",
      "   ------------------------- -------------- 29.2/46.2 MB 7.9 MB/s eta 0:00:03\n",
      "   ------------------------- -------------- 29.5/46.2 MB 7.8 MB/s eta 0:00:03\n",
      "   ------------------------- -------------- 30.0/46.2 MB 7.8 MB/s eta 0:00:03\n",
      "   -------------------------- ------------- 30.4/46.2 MB 7.8 MB/s eta 0:00:03\n",
      "   -------------------------- ------------- 30.9/46.2 MB 7.9 MB/s eta 0:00:02\n",
      "   --------------------------- ------------ 31.3/46.2 MB 7.9 MB/s eta 0:00:02\n",
      "   --------------------------- ------------ 31.8/46.2 MB 8.0 MB/s eta 0:00:02\n",
      "   --------------------------- ------------ 32.1/46.2 MB 8.0 MB/s eta 0:00:02\n",
      "   ---------------------------- ----------- 32.6/46.2 MB 8.1 MB/s eta 0:00:02\n",
      "   ---------------------------- ----------- 32.9/46.2 MB 8.1 MB/s eta 0:00:02\n",
      "   ---------------------------- ----------- 33.4/46.2 MB 8.2 MB/s eta 0:00:02\n",
      "   ----------------------------- ---------- 33.8/46.2 MB 8.4 MB/s eta 0:00:02\n",
      "   ----------------------------- ---------- 34.2/46.2 MB 8.5 MB/s eta 0:00:02\n",
      "   ----------------------------- ---------- 34.3/46.2 MB 8.5 MB/s eta 0:00:02\n",
      "   ----------------------------- ---------- 34.3/46.2 MB 8.5 MB/s eta 0:00:02\n",
      "   ----------------------------- ---------- 34.4/46.2 MB 7.8 MB/s eta 0:00:02\n",
      "   ----------------------------- ---------- 34.5/46.2 MB 7.8 MB/s eta 0:00:02\n",
      "   ----------------------------- ---------- 34.5/46.2 MB 7.8 MB/s eta 0:00:02\n",
      "   ----------------------------- ---------- 34.5/46.2 MB 7.2 MB/s eta 0:00:02\n",
      "   ----------------------------- ---------- 34.5/46.2 MB 7.2 MB/s eta 0:00:02\n",
      "   ------------------------------- -------- 36.3/46.2 MB 8.1 MB/s eta 0:00:02\n",
      "   ------------------------------- -------- 36.3/46.2 MB 8.1 MB/s eta 0:00:02\n",
      "   -------------------------------- ------- 37.6/46.2 MB 8.5 MB/s eta 0:00:02\n",
      "   -------------------------------- ------- 37.8/46.2 MB 8.4 MB/s eta 0:00:01\n",
      "   --------------------------------- ------ 38.3/46.2 MB 8.4 MB/s eta 0:00:01\n",
      "   --------------------------------- ------ 38.6/46.2 MB 8.4 MB/s eta 0:00:01\n",
      "   --------------------------------- ------ 39.1/46.2 MB 8.3 MB/s eta 0:00:01\n",
      "   ---------------------------------- ----- 39.3/46.2 MB 8.2 MB/s eta 0:00:01\n",
      "   ---------------------------------- ----- 39.7/46.2 MB 8.2 MB/s eta 0:00:01\n",
      "   ---------------------------------- ----- 40.1/46.2 MB 8.1 MB/s eta 0:00:01\n",
      "   ----------------------------------- ---- 40.5/46.2 MB 8.1 MB/s eta 0:00:01\n",
      "   ----------------------------------- ---- 40.9/46.2 MB 8.1 MB/s eta 0:00:01\n",
      "   ----------------------------------- ---- 41.1/46.2 MB 7.9 MB/s eta 0:00:01\n",
      "   ----------------------------------- ---- 41.4/46.2 MB 7.8 MB/s eta 0:00:01\n",
      "   ------------------------------------ --- 41.6/46.2 MB 7.7 MB/s eta 0:00:01\n",
      "   ------------------------------------ --- 42.0/46.2 MB 7.6 MB/s eta 0:00:01\n",
      "   ------------------------------------ --- 42.2/46.2 MB 7.5 MB/s eta 0:00:01\n",
      "   ------------------------------------ --- 42.7/46.2 MB 7.5 MB/s eta 0:00:01\n",
      "   ------------------------------------- -- 42.9/46.2 MB 7.5 MB/s eta 0:00:01\n",
      "   ------------------------------------- -- 43.3/46.2 MB 7.4 MB/s eta 0:00:01\n",
      "   ------------------------------------- -- 43.6/46.2 MB 7.4 MB/s eta 0:00:01\n",
      "   -------------------------------------- - 43.9/46.2 MB 7.4 MB/s eta 0:00:01\n",
      "   -------------------------------------- - 44.3/46.2 MB 7.4 MB/s eta 0:00:01\n",
      "   -------------------------------------- - 44.6/46.2 MB 7.8 MB/s eta 0:00:01\n",
      "   ---------------------------------------  45.1/46.2 MB 9.0 MB/s eta 0:00:01\n",
      "   ---------------------------------------  45.4/46.2 MB 8.7 MB/s eta 0:00:01\n",
      "   ---------------------------------------  45.8/46.2 MB 8.3 MB/s eta 0:00:01\n",
      "   ---------------------------------------  46.1/46.2 MB 8.2 MB/s eta 0:00:01\n",
      "   ---------------------------------------  46.2/46.2 MB 8.0 MB/s eta 0:00:01\n",
      "   ---------------------------------------  46.2/46.2 MB 8.0 MB/s eta 0:00:01\n",
      "   ---------------------------------------- 46.2/46.2 MB 7.4 MB/s eta 0:00:00\n",
      "Downloading threadpoolctl-3.2.0-py3-none-any.whl (15 kB)\n",
      "Installing collected packages: threadpoolctl, scipy, scikit-learn\n",
      "Successfully installed scikit-learn-1.4.0 scipy-1.12.0 threadpoolctl-3.2.0\n",
      "Note: you may need to restart the kernel to use updated packages.\n"
     ]
    }
   ],
   "source": [
    "pip install scikit-learn nltk\n"
   ]
  },
  {
   "cell_type": "code",
   "execution_count": 88,
   "id": "acc572b1-a83c-4805-9a22-df39f3ca8aaa",
   "metadata": {},
   "outputs": [
    {
     "name": "stdout",
     "output_type": "stream",
     "text": [
      "Requirement already satisfied: scikit-learn in c:\\users\\hp\\appdata\\local\\programs\\python\\python311\\lib\\site-packages (1.4.0)\n",
      "Requirement already satisfied: nltk in c:\\users\\hp\\appdata\\local\\programs\\python\\python311\\lib\\site-packages (3.8.1)\n",
      "Requirement already satisfied: numpy<2.0,>=1.19.5 in c:\\users\\hp\\appdata\\local\\programs\\python\\python311\\lib\\site-packages (from scikit-learn) (1.24.3)\n",
      "Requirement already satisfied: scipy>=1.6.0 in c:\\users\\hp\\appdata\\local\\programs\\python\\python311\\lib\\site-packages (from scikit-learn) (1.12.0)\n",
      "Requirement already satisfied: joblib>=1.2.0 in c:\\users\\hp\\appdata\\local\\programs\\python\\python311\\lib\\site-packages (from scikit-learn) (1.3.2)\n",
      "Requirement already satisfied: threadpoolctl>=2.0.0 in c:\\users\\hp\\appdata\\local\\programs\\python\\python311\\lib\\site-packages (from scikit-learn) (3.2.0)\n",
      "Requirement already satisfied: click in c:\\users\\hp\\appdata\\local\\programs\\python\\python311\\lib\\site-packages (from nltk) (8.1.7)\n",
      "Requirement already satisfied: regex>=2021.8.3 in c:\\users\\hp\\appdata\\local\\programs\\python\\python311\\lib\\site-packages (from nltk) (2023.12.25)\n",
      "Requirement already satisfied: tqdm in c:\\users\\hp\\appdata\\local\\programs\\python\\python311\\lib\\site-packages (from nltk) (4.66.1)\n",
      "Requirement already satisfied: colorama in c:\\users\\hp\\appdata\\local\\programs\\python\\python311\\lib\\site-packages (from click->nltk) (0.4.6)\n"
     ]
    }
   ],
   "source": [
    "!pip install scikit-learn nltk\n"
   ]
  },
  {
   "cell_type": "code",
   "execution_count": null,
   "id": "8c681225-5072-4a4f-b5d3-e41732ce7a50",
   "metadata": {},
   "outputs": [],
   "source": []
  }
 ],
 "metadata": {
  "kernelspec": {
   "display_name": "Python 3 (ipykernel)",
   "language": "python",
   "name": "python3"
  },
  "language_info": {
   "codemirror_mode": {
    "name": "ipython",
    "version": 3
   },
   "file_extension": ".py",
   "mimetype": "text/x-python",
   "name": "python",
   "nbconvert_exporter": "python",
   "pygments_lexer": "ipython3",
   "version": "3.11.3"
  }
 },
 "nbformat": 4,
 "nbformat_minor": 5
}
